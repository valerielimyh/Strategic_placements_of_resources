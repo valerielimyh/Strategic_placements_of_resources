{
 "cells": [
  {
   "cell_type": "code",
   "execution_count": 2,
   "metadata": {},
   "outputs": [],
   "source": [
    "import pandas as pd\n",
    "import numpy as np\n",
    "import datetime\n",
    "from matplotlib import pyplot as plt\n"
   ]
  },
  {
   "cell_type": "code",
   "execution_count": 3,
   "metadata": {},
   "outputs": [],
   "source": [
    "df = pd.read_pickle('./data_final.pkl') #importing cleaned data from the other file"
   ]
  },
  {
   "cell_type": "code",
   "execution_count": 10,
   "metadata": {},
   "outputs": [],
   "source": [
    "station_flow_annual = df.groupby(by = 'Station')['Net_Flow'].sum()\n",
    "station_flow_annual.sort_values(ascending = False,inplace = True)\n",
    "\n",
    "stations_name = station_flow_annual.index[:10].tolist()\n",
    "stations_size = station_flow_annual[:10]"
   ]
  },
  {
   "cell_type": "code",
   "execution_count": 5,
   "metadata": {},
   "outputs": [],
   "source": [
    "df_location = pd.read_csv('~/Documents/Github/Strategic_placements_of_resources/Strategic_placements_of_resources/data/external/StationEntrances.csv')"
   ]
  },
  {
   "cell_type": "code",
   "execution_count": 6,
   "metadata": {},
   "outputs": [
    {
     "data": {
      "text/html": [
       "<div>\n",
       "<style scoped>\n",
       "    .dataframe tbody tr th:only-of-type {\n",
       "        vertical-align: middle;\n",
       "    }\n",
       "\n",
       "    .dataframe tbody tr th {\n",
       "        vertical-align: top;\n",
       "    }\n",
       "\n",
       "    .dataframe thead th {\n",
       "        text-align: right;\n",
       "    }\n",
       "</style>\n",
       "<table border=\"1\" class=\"dataframe\">\n",
       "  <thead>\n",
       "    <tr style=\"text-align: right;\">\n",
       "      <th></th>\n",
       "      <th>Division</th>\n",
       "      <th>Line</th>\n",
       "      <th>Station_Name</th>\n",
       "      <th>Station_Latitude</th>\n",
       "      <th>Station_Longitude</th>\n",
       "      <th>Route_1</th>\n",
       "      <th>Route_2</th>\n",
       "      <th>Route_3</th>\n",
       "      <th>Route_4</th>\n",
       "      <th>Route_5</th>\n",
       "      <th>...</th>\n",
       "      <th>Staffing</th>\n",
       "      <th>Staff_Hours</th>\n",
       "      <th>ADA</th>\n",
       "      <th>ADA_Notes</th>\n",
       "      <th>Free_Crossover</th>\n",
       "      <th>North_South_Street</th>\n",
       "      <th>East_West_Street</th>\n",
       "      <th>Corner</th>\n",
       "      <th>Latitude</th>\n",
       "      <th>Longitude</th>\n",
       "    </tr>\n",
       "  </thead>\n",
       "  <tbody>\n",
       "    <tr>\n",
       "      <th>0</th>\n",
       "      <td>BMT</td>\n",
       "      <td>Astoria</td>\n",
       "      <td>Ditmars Blvd</td>\n",
       "      <td>40.775036</td>\n",
       "      <td>-73.912034</td>\n",
       "      <td>N</td>\n",
       "      <td>Q</td>\n",
       "      <td>NaN</td>\n",
       "      <td>NaN</td>\n",
       "      <td>NaN</td>\n",
       "      <td>...</td>\n",
       "      <td>FULL</td>\n",
       "      <td>NaN</td>\n",
       "      <td>False</td>\n",
       "      <td>NaN</td>\n",
       "      <td>True</td>\n",
       "      <td>31st St</td>\n",
       "      <td>23rd Ave</td>\n",
       "      <td>NW</td>\n",
       "      <td>40.775149</td>\n",
       "      <td>-73.912074</td>\n",
       "    </tr>\n",
       "    <tr>\n",
       "      <th>1</th>\n",
       "      <td>BMT</td>\n",
       "      <td>Astoria</td>\n",
       "      <td>Ditmars Blvd</td>\n",
       "      <td>40.775036</td>\n",
       "      <td>-73.912034</td>\n",
       "      <td>N</td>\n",
       "      <td>Q</td>\n",
       "      <td>NaN</td>\n",
       "      <td>NaN</td>\n",
       "      <td>NaN</td>\n",
       "      <td>...</td>\n",
       "      <td>FULL</td>\n",
       "      <td>NaN</td>\n",
       "      <td>False</td>\n",
       "      <td>NaN</td>\n",
       "      <td>True</td>\n",
       "      <td>31st St</td>\n",
       "      <td>23rd Ave</td>\n",
       "      <td>NE</td>\n",
       "      <td>40.774810</td>\n",
       "      <td>-73.912151</td>\n",
       "    </tr>\n",
       "    <tr>\n",
       "      <th>2</th>\n",
       "      <td>BMT</td>\n",
       "      <td>Astoria</td>\n",
       "      <td>Ditmars Blvd</td>\n",
       "      <td>40.775036</td>\n",
       "      <td>-73.912034</td>\n",
       "      <td>N</td>\n",
       "      <td>Q</td>\n",
       "      <td>NaN</td>\n",
       "      <td>NaN</td>\n",
       "      <td>NaN</td>\n",
       "      <td>...</td>\n",
       "      <td>FULL</td>\n",
       "      <td>NaN</td>\n",
       "      <td>False</td>\n",
       "      <td>NaN</td>\n",
       "      <td>True</td>\n",
       "      <td>31st St</td>\n",
       "      <td>23rd Ave</td>\n",
       "      <td>NE</td>\n",
       "      <td>40.775025</td>\n",
       "      <td>-73.911891</td>\n",
       "    </tr>\n",
       "    <tr>\n",
       "      <th>3</th>\n",
       "      <td>BMT</td>\n",
       "      <td>Astoria</td>\n",
       "      <td>Ditmars Blvd</td>\n",
       "      <td>40.775036</td>\n",
       "      <td>-73.912034</td>\n",
       "      <td>N</td>\n",
       "      <td>Q</td>\n",
       "      <td>NaN</td>\n",
       "      <td>NaN</td>\n",
       "      <td>NaN</td>\n",
       "      <td>...</td>\n",
       "      <td>FULL</td>\n",
       "      <td>NaN</td>\n",
       "      <td>False</td>\n",
       "      <td>NaN</td>\n",
       "      <td>True</td>\n",
       "      <td>31st St</td>\n",
       "      <td>23rd Ave</td>\n",
       "      <td>NW</td>\n",
       "      <td>40.774938</td>\n",
       "      <td>-73.912337</td>\n",
       "    </tr>\n",
       "    <tr>\n",
       "      <th>4</th>\n",
       "      <td>BMT</td>\n",
       "      <td>Astoria</td>\n",
       "      <td>Astoria Blvd-Hoyt Av</td>\n",
       "      <td>40.770258</td>\n",
       "      <td>-73.917843</td>\n",
       "      <td>N</td>\n",
       "      <td>Q</td>\n",
       "      <td>NaN</td>\n",
       "      <td>NaN</td>\n",
       "      <td>NaN</td>\n",
       "      <td>...</td>\n",
       "      <td>FULL</td>\n",
       "      <td>NaN</td>\n",
       "      <td>False</td>\n",
       "      <td>NaN</td>\n",
       "      <td>True</td>\n",
       "      <td>31st St</td>\n",
       "      <td>Hoyt Ave South</td>\n",
       "      <td>SW</td>\n",
       "      <td>40.770313</td>\n",
       "      <td>-73.917978</td>\n",
       "    </tr>\n",
       "  </tbody>\n",
       "</table>\n",
       "<p>5 rows × 30 columns</p>\n",
       "</div>"
      ],
      "text/plain": [
       "  Division     Line          Station_Name  Station_Latitude  \\\n",
       "0      BMT  Astoria          Ditmars Blvd         40.775036   \n",
       "1      BMT  Astoria          Ditmars Blvd         40.775036   \n",
       "2      BMT  Astoria          Ditmars Blvd         40.775036   \n",
       "3      BMT  Astoria          Ditmars Blvd         40.775036   \n",
       "4      BMT  Astoria  Astoria Blvd-Hoyt Av         40.770258   \n",
       "\n",
       "   Station_Longitude Route_1 Route_2 Route_3 Route_4 Route_5  ... Staffing  \\\n",
       "0         -73.912034       N       Q     NaN     NaN     NaN  ...     FULL   \n",
       "1         -73.912034       N       Q     NaN     NaN     NaN  ...     FULL   \n",
       "2         -73.912034       N       Q     NaN     NaN     NaN  ...     FULL   \n",
       "3         -73.912034       N       Q     NaN     NaN     NaN  ...     FULL   \n",
       "4         -73.917843       N       Q     NaN     NaN     NaN  ...     FULL   \n",
       "\n",
       "  Staff_Hours    ADA  ADA_Notes  Free_Crossover  North_South_Street  \\\n",
       "0         NaN  False        NaN            True             31st St   \n",
       "1         NaN  False        NaN            True             31st St   \n",
       "2         NaN  False        NaN            True             31st St   \n",
       "3         NaN  False        NaN            True             31st St   \n",
       "4         NaN  False        NaN            True             31st St   \n",
       "\n",
       "  East_West_Street Corner   Latitude  Longitude  \n",
       "0         23rd Ave     NW  40.775149 -73.912074  \n",
       "1         23rd Ave     NE  40.774810 -73.912151  \n",
       "2         23rd Ave     NE  40.775025 -73.911891  \n",
       "3         23rd Ave     NW  40.774938 -73.912337  \n",
       "4   Hoyt Ave South     SW  40.770313 -73.917978  \n",
       "\n",
       "[5 rows x 30 columns]"
      ]
     },
     "execution_count": 6,
     "metadata": {},
     "output_type": "execute_result"
    }
   ],
   "source": [
    "df_location.head()"
   ]
  },
  {
   "cell_type": "code",
   "execution_count": 24,
   "metadata": {},
   "outputs": [],
   "source": [
    "location = pd.DataFrame(\n",
    "                    df_location.groupby(by = 'Station_Name')[['Station_Latitude','Station_Longitude']].mean()).reset_index()"
   ]
  },
  {
   "cell_type": "code",
   "execution_count": 50,
   "metadata": {},
   "outputs": [
    {
     "data": {
      "text/html": [
       "<div>\n",
       "<style scoped>\n",
       "    .dataframe tbody tr th:only-of-type {\n",
       "        vertical-align: middle;\n",
       "    }\n",
       "\n",
       "    .dataframe tbody tr th {\n",
       "        vertical-align: top;\n",
       "    }\n",
       "\n",
       "    .dataframe thead th {\n",
       "        text-align: right;\n",
       "    }\n",
       "</style>\n",
       "<table border=\"1\" class=\"dataframe\">\n",
       "  <thead>\n",
       "    <tr style=\"text-align: right;\">\n",
       "      <th></th>\n",
       "      <th>Station_Name</th>\n",
       "      <th>Station_Latitude</th>\n",
       "      <th>Station_Longitude</th>\n",
       "    </tr>\n",
       "  </thead>\n",
       "  <tbody>\n",
       "    <tr>\n",
       "      <th>0</th>\n",
       "      <td>103rd St</td>\n",
       "      <td>40.781165</td>\n",
       "      <td>-73.929092</td>\n",
       "    </tr>\n",
       "    <tr>\n",
       "      <th>1</th>\n",
       "      <td>104th St-102nd St</td>\n",
       "      <td>40.695178</td>\n",
       "      <td>-73.844330</td>\n",
       "    </tr>\n",
       "    <tr>\n",
       "      <th>2</th>\n",
       "      <td>104th St-Oxford Av</td>\n",
       "      <td>40.681711</td>\n",
       "      <td>-73.837683</td>\n",
       "    </tr>\n",
       "    <tr>\n",
       "      <th>3</th>\n",
       "      <td>110th St</td>\n",
       "      <td>40.795020</td>\n",
       "      <td>-73.944250</td>\n",
       "    </tr>\n",
       "    <tr>\n",
       "      <th>4</th>\n",
       "      <td>110th St-Central Park North</td>\n",
       "      <td>40.799075</td>\n",
       "      <td>-73.951822</td>\n",
       "    </tr>\n",
       "  </tbody>\n",
       "</table>\n",
       "</div>"
      ],
      "text/plain": [
       "                  Station_Name  Station_Latitude  Station_Longitude\n",
       "0                     103rd St         40.781165         -73.929092\n",
       "1            104th St-102nd St         40.695178         -73.844330\n",
       "2           104th St-Oxford Av         40.681711         -73.837683\n",
       "3                     110th St         40.795020         -73.944250\n",
       "4  110th St-Central Park North         40.799075         -73.951822"
      ]
     },
     "execution_count": 50,
     "metadata": {},
     "output_type": "execute_result"
    }
   ],
   "source": [
    "location.head()"
   ]
  },
  {
   "cell_type": "code",
   "execution_count": 38,
   "metadata": {},
   "outputs": [],
   "source": [
    "data = {'Station_Flow':stations_size}\n",
    "stations = pd.DataFrame(data = data).reset_index()"
   ]
  },
  {
   "cell_type": "code",
   "execution_count": 46,
   "metadata": {},
   "outputs": [],
   "source": [
    "station_dict = {'TIMES SQ-42 ST':'Times Square-42nd St','23 ST':'23rd St','GRD CNTRL-42 ST':'Grand Central-42nd St',\n",
    "               '14 ST-UNION SQ':'14th St-Union Square','FULTON ST':'Fulton St','86 ST':'86th St','125 ST':'125th St',\n",
    "               \"42 ST-PORT AUTH\":\"42th St-Port Authority\",'34 ST-PENN STA':'34th St-Penn','34 ST-HERALD SQ':'34th St-Herald Sq'}"
   ]
  },
  {
   "cell_type": "code",
   "execution_count": 48,
   "metadata": {},
   "outputs": [],
   "source": [
    "stations.Station.replace(station_dict,inplace = True)"
   ]
  },
  {
   "cell_type": "code",
   "execution_count": 51,
   "metadata": {},
   "outputs": [],
   "source": [
    "Station_loca = stations.merge(location,how='left',left_on = 'Station',right_on = 'Station_Name')"
   ]
  },
  {
   "cell_type": "code",
   "execution_count": 63,
   "metadata": {},
   "outputs": [],
   "source": [
    "Station_loca.loc[Station_loca['Station'] == '34th St-Penn', 'Station_Latitude'] = 1"
   ]
  },
  {
   "cell_type": "code",
   "execution_count": 69,
   "metadata": {},
   "outputs": [],
   "source": [
    "station_to_fill = ['34th St-Penn','34th St-Herald Sq','42th St-Port Authority']\n",
    "lat_2fill = [40.752342 , 40.749936 , 40.757965]\n",
    "lon_2fill = [-73.9932 , -73.988050,-73.991302]\n",
    "\n",
    "for i in range(3):\n",
    "    Station_loca.loc[Station_loca['Station'] == station_to_fill[i], 'Station_Latitude'] = lat_2fill[i]\n",
    "    Station_loca.loc[Station_loca['Station'] == station_to_fill[i], 'Station_Longitude'] = lon_2fill[i]"
   ]
  },
  {
   "cell_type": "code",
   "execution_count": 79,
   "metadata": {},
   "outputs": [],
   "source": [
    "columns_to_keep = [ 'Station','Station_Flow','Station_Latitude','Station_Longitude']\n",
    "Stations = pd.DataFrame(Station_loca[columns_to_keep])\n",
    "\n",
    "Stations.Station_Flow = Stations.Station_Flow/1000000*30"
   ]
  },
  {
   "cell_type": "code",
   "execution_count": 83,
   "metadata": {},
   "outputs": [
    {
     "data": {
      "text/plain": [
       "(-74.0041218235294, -73.94828926315786, 40.70741094117648, 40.809509684210546)"
      ]
     },
     "execution_count": 83,
     "metadata": {},
     "output_type": "execute_result"
    }
   ],
   "source": [
    "Bbox = (Stations.Station_Longitude.min(),   Stations.Station_Longitude.max(),      \n",
    "         Stations.Station_Latitude.min(), Stations.Station_Latitude.max())\n",
    "Bbox"
   ]
  },
  {
   "cell_type": "code",
   "execution_count": 89,
   "metadata": {},
   "outputs": [
    {
     "data": {
      "text/plain": [
       "(-73.945, -74.01)"
      ]
     },
     "execution_count": 89,
     "metadata": {},
     "output_type": "execute_result"
    },
    {
     "data": {
      "image/png": "[encoded data removed]",
      "text/plain": [
       "<Figure size 720x720 with 1 Axes>"
      ]
     },
     "metadata": {
      "needs_background": "light"
     },
     "output_type": "display_data"
    }
   ],
   "source": [
    "plt.figure(figsize=[10,10])\n",
    "plt.scatter(x = Stations.Station_Latitude,y=Stations.Station_Longitude,s = Stations.Station_Flow,alpha = .2)\n",
    "plt.xlim([40.7,40.81])\n",
    "plt.ylim([-73.945,-74.01])"
   ]
  },
  {
   "cell_type": "code",
   "execution_count": null,
   "metadata": {},
   "outputs": [],
   "source": []
  },
  {
   "cell_type": "code",
   "execution_count": null,
   "metadata": {},
   "outputs": [],
   "source": []
  }
 ],
 "metadata": {
  "kernelspec": {
   "display_name": "Python [conda env:metisnow] *",
   "language": "python",
   "name": "conda-env-metisnow-py"
  },
  "language_info": {
   "codemirror_mode": {
    "name": "ipython",
    "version": 3
   },
   "file_extension": ".py",
   "mimetype": "text/x-python",
   "name": "python",
   "nbconvert_exporter": "python",
   "pygments_lexer": "ipython3",
   "version": "3.7.4"
  }
 },
 "nbformat": 4,
 "nbformat_minor": 4
}
