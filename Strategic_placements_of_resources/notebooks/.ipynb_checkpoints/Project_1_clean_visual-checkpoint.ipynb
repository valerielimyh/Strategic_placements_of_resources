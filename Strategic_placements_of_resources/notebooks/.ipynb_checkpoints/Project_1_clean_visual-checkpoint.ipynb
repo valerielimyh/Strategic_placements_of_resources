{
 "cells": [
  {
   "cell_type": "code",
   "execution_count": 4,
   "metadata": {},
   "outputs": [],
   "source": [
    "import pandas as pd\n",
    "import numpy as np\n",
    "import datetime\n",
    "from matplotlib import pyplot as plt\n",
    "import pickle "
   ]
  },
  {
   "cell_type": "code",
   "execution_count": 5,
   "metadata": {},
   "outputs": [],
   "source": [
    "df_path = '~/Documents/GitHub/metis_coursework/project_1/data/Turnstile_Usage_Data__2019.csv' #your own path of the file\n",
    "#df_path = '~/Documents/GitHub/Metis_project1/Turnstile_Usage_Data__2019.csv'\n",
    "\n",
    "df = pd.read_csv(df_path,header = 0)"
   ]
  },
  {
   "cell_type": "code",
   "execution_count": 6,
   "metadata": {},
   "outputs": [
    {
     "name": "stdout",
     "output_type": "stream",
     "text": [
      "<class 'pandas.core.frame.DataFrame'>\n",
      "RangeIndex: 10467101 entries, 0 to 10467100\n",
      "Data columns (total 11 columns):\n",
      "C/A                                                           object\n",
      "Unit                                                          object\n",
      "SCP                                                           object\n",
      "Station                                                       object\n",
      "Line Name                                                     object\n",
      "Division                                                      object\n",
      "Date                                                          object\n",
      "Time                                                          object\n",
      "Description                                                   object\n",
      "Entries                                                       int64\n",
      "Exits                                                         int64\n",
      "dtypes: int64(2), object(9)\n",
      "memory usage: 878.4+ MB\n"
     ]
    }
   ],
   "source": [
    "#simple understanding of dataset\n",
    "df.info()"
   ]
  },
  {
   "cell_type": "code",
   "execution_count": 7,
   "metadata": {},
   "outputs": [
    {
     "data": {
      "text/html": [
       "<div>\n",
       "<style scoped>\n",
       "    .dataframe tbody tr th:only-of-type {\n",
       "        vertical-align: middle;\n",
       "    }\n",
       "\n",
       "    .dataframe tbody tr th {\n",
       "        vertical-align: top;\n",
       "    }\n",
       "\n",
       "    .dataframe thead th {\n",
       "        text-align: right;\n",
       "    }\n",
       "</style>\n",
       "<table border=\"1\" class=\"dataframe\">\n",
       "  <thead>\n",
       "    <tr style=\"text-align: right;\">\n",
       "      <th></th>\n",
       "      <th>C/A</th>\n",
       "      <th>Unit</th>\n",
       "      <th>SCP</th>\n",
       "      <th>Station</th>\n",
       "      <th>Line Name</th>\n",
       "      <th>Division</th>\n",
       "      <th>Date</th>\n",
       "      <th>Time</th>\n",
       "      <th>Description</th>\n",
       "      <th>Entries</th>\n",
       "      <th>Exits</th>\n",
       "    </tr>\n",
       "  </thead>\n",
       "  <tbody>\n",
       "    <tr>\n",
       "      <th>0</th>\n",
       "      <td>A033</td>\n",
       "      <td>R170</td>\n",
       "      <td>02-06-00</td>\n",
       "      <td>14 ST-UNION SQ</td>\n",
       "      <td>LNQR456W</td>\n",
       "      <td>BMT</td>\n",
       "      <td>12/27/2019</td>\n",
       "      <td>00:00:00</td>\n",
       "      <td>REGULAR</td>\n",
       "      <td>769115</td>\n",
       "      <td>559221</td>\n",
       "    </tr>\n",
       "    <tr>\n",
       "      <th>1</th>\n",
       "      <td>A033</td>\n",
       "      <td>R170</td>\n",
       "      <td>02-00-04</td>\n",
       "      <td>14 ST-UNION SQ</td>\n",
       "      <td>LNQR456W</td>\n",
       "      <td>BMT</td>\n",
       "      <td>12/27/2019</td>\n",
       "      <td>00:00:00</td>\n",
       "      <td>REGULAR</td>\n",
       "      <td>6483080</td>\n",
       "      <td>4945335</td>\n",
       "    </tr>\n",
       "    <tr>\n",
       "      <th>2</th>\n",
       "      <td>A033</td>\n",
       "      <td>R170</td>\n",
       "      <td>02-00-03</td>\n",
       "      <td>14 ST-UNION SQ</td>\n",
       "      <td>LNQR456W</td>\n",
       "      <td>BMT</td>\n",
       "      <td>12/27/2019</td>\n",
       "      <td>00:00:00</td>\n",
       "      <td>REGULAR</td>\n",
       "      <td>7191422</td>\n",
       "      <td>8417203</td>\n",
       "    </tr>\n",
       "    <tr>\n",
       "      <th>3</th>\n",
       "      <td>A033</td>\n",
       "      <td>R170</td>\n",
       "      <td>02-00-02</td>\n",
       "      <td>14 ST-UNION SQ</td>\n",
       "      <td>LNQR456W</td>\n",
       "      <td>BMT</td>\n",
       "      <td>12/27/2019</td>\n",
       "      <td>00:00:00</td>\n",
       "      <td>REGULAR</td>\n",
       "      <td>14983900</td>\n",
       "      <td>14554087</td>\n",
       "    </tr>\n",
       "    <tr>\n",
       "      <th>4</th>\n",
       "      <td>A033</td>\n",
       "      <td>R170</td>\n",
       "      <td>02-06-01</td>\n",
       "      <td>14 ST-UNION SQ</td>\n",
       "      <td>LNQR456W</td>\n",
       "      <td>BMT</td>\n",
       "      <td>12/27/2019</td>\n",
       "      <td>00:00:00</td>\n",
       "      <td>REGULAR</td>\n",
       "      <td>71047673</td>\n",
       "      <td>20925389</td>\n",
       "    </tr>\n",
       "  </tbody>\n",
       "</table>\n",
       "</div>"
      ],
      "text/plain": [
       "    C/A  Unit       SCP         Station Line Name Division        Date  \\\n",
       "0  A033  R170  02-06-00  14 ST-UNION SQ  LNQR456W      BMT  12/27/2019   \n",
       "1  A033  R170  02-00-04  14 ST-UNION SQ  LNQR456W      BMT  12/27/2019   \n",
       "2  A033  R170  02-00-03  14 ST-UNION SQ  LNQR456W      BMT  12/27/2019   \n",
       "3  A033  R170  02-00-02  14 ST-UNION SQ  LNQR456W      BMT  12/27/2019   \n",
       "4  A033  R170  02-06-01  14 ST-UNION SQ  LNQR456W      BMT  12/27/2019   \n",
       "\n",
       "       Time Description   Entries  \\\n",
       "0  00:00:00     REGULAR    769115   \n",
       "1  00:00:00     REGULAR   6483080   \n",
       "2  00:00:00     REGULAR   7191422   \n",
       "3  00:00:00     REGULAR  14983900   \n",
       "4  00:00:00     REGULAR  71047673   \n",
       "\n",
       "   Exits                                                       \n",
       "0                                             559221           \n",
       "1                                            4945335           \n",
       "2                                            8417203           \n",
       "3                                           14554087           \n",
       "4                                           20925389           "
      ]
     },
     "execution_count": 7,
     "metadata": {},
     "output_type": "execute_result"
    }
   ],
   "source": [
    "df.head()"
   ]
  },
  {
   "cell_type": "code",
   "execution_count": 8,
   "metadata": {},
   "outputs": [],
   "source": [
    "#create unique turnstile id for each turnstile\n",
    "df['Turnstile_ID'] = df['Unit'].astype(str) + \"_\"+ df['SCP'].astype(str) +\"_\"+ df['Station'].astype(str) "
   ]
  },
  {
   "cell_type": "code",
   "execution_count": 9,
   "metadata": {},
   "outputs": [],
   "source": [
    "#clean up column name\n",
    "df.rename(columns = {'Exits                                                     ':'Exits'},inplace = True)"
   ]
  },
  {
   "cell_type": "code",
   "execution_count": 10,
   "metadata": {},
   "outputs": [],
   "source": [
    "#trim dataset so that it runs faster\n",
    "columns_to_keep = ['Turnstile_ID','Station','Date','Time','Entries','Exits']\n",
    "df_new = pd.DataFrame(df[columns_to_keep])"
   ]
  },
  {
   "cell_type": "code",
   "execution_count": 11,
   "metadata": {},
   "outputs": [],
   "source": [
    "#convert date and time into datetime format\n",
    "df_new['Date'] = df_new.Date.apply(lambda x: datetime.datetime.strptime(x, '%m/%d/%Y').date())\n",
    "df_new['Time'] = df_new.Time.apply(lambda x: datetime.datetime.strptime(x, '%H:%M:%S').time())"
   ]
  },
  {
   "cell_type": "code",
   "execution_count": 12,
   "metadata": {},
   "outputs": [
    {
     "data": {
      "text/html": [
       "<div>\n",
       "<style scoped>\n",
       "    .dataframe tbody tr th:only-of-type {\n",
       "        vertical-align: middle;\n",
       "    }\n",
       "\n",
       "    .dataframe tbody tr th {\n",
       "        vertical-align: top;\n",
       "    }\n",
       "\n",
       "    .dataframe thead th {\n",
       "        text-align: right;\n",
       "    }\n",
       "</style>\n",
       "<table border=\"1\" class=\"dataframe\">\n",
       "  <thead>\n",
       "    <tr style=\"text-align: right;\">\n",
       "      <th></th>\n",
       "      <th>Turnstile_ID</th>\n",
       "      <th>Station</th>\n",
       "      <th>Date</th>\n",
       "      <th>Time</th>\n",
       "      <th>Entries</th>\n",
       "      <th>Exits</th>\n",
       "    </tr>\n",
       "  </thead>\n",
       "  <tbody>\n",
       "    <tr>\n",
       "      <th>0</th>\n",
       "      <td>R170_02-06-00_14 ST-UNION SQ</td>\n",
       "      <td>14 ST-UNION SQ</td>\n",
       "      <td>2019-12-27</td>\n",
       "      <td>00:00:00</td>\n",
       "      <td>769115</td>\n",
       "      <td>559221</td>\n",
       "    </tr>\n",
       "    <tr>\n",
       "      <th>1</th>\n",
       "      <td>R170_02-00-04_14 ST-UNION SQ</td>\n",
       "      <td>14 ST-UNION SQ</td>\n",
       "      <td>2019-12-27</td>\n",
       "      <td>00:00:00</td>\n",
       "      <td>6483080</td>\n",
       "      <td>4945335</td>\n",
       "    </tr>\n",
       "    <tr>\n",
       "      <th>2</th>\n",
       "      <td>R170_02-00-03_14 ST-UNION SQ</td>\n",
       "      <td>14 ST-UNION SQ</td>\n",
       "      <td>2019-12-27</td>\n",
       "      <td>00:00:00</td>\n",
       "      <td>7191422</td>\n",
       "      <td>8417203</td>\n",
       "    </tr>\n",
       "    <tr>\n",
       "      <th>3</th>\n",
       "      <td>R170_02-00-02_14 ST-UNION SQ</td>\n",
       "      <td>14 ST-UNION SQ</td>\n",
       "      <td>2019-12-27</td>\n",
       "      <td>00:00:00</td>\n",
       "      <td>14983900</td>\n",
       "      <td>14554087</td>\n",
       "    </tr>\n",
       "    <tr>\n",
       "      <th>4</th>\n",
       "      <td>R170_02-06-01_14 ST-UNION SQ</td>\n",
       "      <td>14 ST-UNION SQ</td>\n",
       "      <td>2019-12-27</td>\n",
       "      <td>00:00:00</td>\n",
       "      <td>71047673</td>\n",
       "      <td>20925389</td>\n",
       "    </tr>\n",
       "  </tbody>\n",
       "</table>\n",
       "</div>"
      ],
      "text/plain": [
       "                   Turnstile_ID         Station        Date      Time  \\\n",
       "0  R170_02-06-00_14 ST-UNION SQ  14 ST-UNION SQ  2019-12-27  00:00:00   \n",
       "1  R170_02-00-04_14 ST-UNION SQ  14 ST-UNION SQ  2019-12-27  00:00:00   \n",
       "2  R170_02-00-03_14 ST-UNION SQ  14 ST-UNION SQ  2019-12-27  00:00:00   \n",
       "3  R170_02-00-02_14 ST-UNION SQ  14 ST-UNION SQ  2019-12-27  00:00:00   \n",
       "4  R170_02-06-01_14 ST-UNION SQ  14 ST-UNION SQ  2019-12-27  00:00:00   \n",
       "\n",
       "    Entries     Exits  \n",
       "0    769115    559221  \n",
       "1   6483080   4945335  \n",
       "2   7191422   8417203  \n",
       "3  14983900  14554087  \n",
       "4  71047673  20925389  "
      ]
     },
     "execution_count": 12,
     "metadata": {},
     "output_type": "execute_result"
    }
   ],
   "source": [
    "df_new.head()"
   ]
  },
  {
   "cell_type": "code",
   "execution_count": 13,
   "metadata": {},
   "outputs": [],
   "source": [
    "df_new = df_new.sort_values(by = ['Turnstile_ID','Date']).reset_index()\n"
   ]
  },
  {
   "cell_type": "code",
   "execution_count": 14,
   "metadata": {},
   "outputs": [
    {
     "ename": "KeyboardInterrupt",
     "evalue": "",
     "output_type": "error",
     "traceback": [
      "\u001b[0;31m---------------------------------------------------------------------------\u001b[0m",
      "\u001b[0;31mKeyboardInterrupt\u001b[0m                         Traceback (most recent call last)",
      "\u001b[0;32m<ipython-input-14-3605ccafed7c>\u001b[0m in \u001b[0;36m<module>\u001b[0;34m\u001b[0m\n\u001b[0;32m----> 1\u001b[0;31m \u001b[0mdf_new\u001b[0m\u001b[0;34m.\u001b[0m\u001b[0mto_pickle\u001b[0m\u001b[0;34m(\u001b[0m\u001b[0;34m'./data_sorted_wo_diff.pkl'\u001b[0m\u001b[0;34m)\u001b[0m\u001b[0;34m\u001b[0m\u001b[0;34m\u001b[0m\u001b[0m\n\u001b[0m",
      "\u001b[0;32m//anaconda3/envs/metisnow/lib/python3.7/site-packages/pandas/core/generic.py\u001b[0m in \u001b[0;36mto_pickle\u001b[0;34m(self, path, compression, protocol)\u001b[0m\n\u001b[1;32m   2769\u001b[0m         \u001b[0;32mfrom\u001b[0m \u001b[0mpandas\u001b[0m\u001b[0;34m.\u001b[0m\u001b[0mio\u001b[0m\u001b[0;34m.\u001b[0m\u001b[0mpickle\u001b[0m \u001b[0;32mimport\u001b[0m \u001b[0mto_pickle\u001b[0m\u001b[0;34m\u001b[0m\u001b[0;34m\u001b[0m\u001b[0m\n\u001b[1;32m   2770\u001b[0m \u001b[0;34m\u001b[0m\u001b[0m\n\u001b[0;32m-> 2771\u001b[0;31m         \u001b[0mto_pickle\u001b[0m\u001b[0;34m(\u001b[0m\u001b[0mself\u001b[0m\u001b[0;34m,\u001b[0m \u001b[0mpath\u001b[0m\u001b[0;34m,\u001b[0m \u001b[0mcompression\u001b[0m\u001b[0;34m=\u001b[0m\u001b[0mcompression\u001b[0m\u001b[0;34m,\u001b[0m \u001b[0mprotocol\u001b[0m\u001b[0;34m=\u001b[0m\u001b[0mprotocol\u001b[0m\u001b[0;34m)\u001b[0m\u001b[0;34m\u001b[0m\u001b[0;34m\u001b[0m\u001b[0m\n\u001b[0m\u001b[1;32m   2772\u001b[0m \u001b[0;34m\u001b[0m\u001b[0m\n\u001b[1;32m   2773\u001b[0m     \u001b[0;32mdef\u001b[0m \u001b[0mto_clipboard\u001b[0m\u001b[0;34m(\u001b[0m\u001b[0mself\u001b[0m\u001b[0;34m,\u001b[0m \u001b[0mexcel\u001b[0m\u001b[0;34m=\u001b[0m\u001b[0;32mTrue\u001b[0m\u001b[0;34m,\u001b[0m \u001b[0msep\u001b[0m\u001b[0;34m=\u001b[0m\u001b[0;32mNone\u001b[0m\u001b[0;34m,\u001b[0m \u001b[0;34m**\u001b[0m\u001b[0mkwargs\u001b[0m\u001b[0;34m)\u001b[0m\u001b[0;34m:\u001b[0m\u001b[0;34m\u001b[0m\u001b[0;34m\u001b[0m\u001b[0m\n",
      "\u001b[0;32m//anaconda3/envs/metisnow/lib/python3.7/site-packages/pandas/io/pickle.py\u001b[0m in \u001b[0;36mto_pickle\u001b[0;34m(obj, path, compression, protocol)\u001b[0m\n\u001b[1;32m     74\u001b[0m         \u001b[0mprotocol\u001b[0m \u001b[0;34m=\u001b[0m \u001b[0mpickle\u001b[0m\u001b[0;34m.\u001b[0m\u001b[0mHIGHEST_PROTOCOL\u001b[0m\u001b[0;34m\u001b[0m\u001b[0;34m\u001b[0m\u001b[0m\n\u001b[1;32m     75\u001b[0m     \u001b[0;32mtry\u001b[0m\u001b[0;34m:\u001b[0m\u001b[0;34m\u001b[0m\u001b[0;34m\u001b[0m\u001b[0m\n\u001b[0;32m---> 76\u001b[0;31m         \u001b[0mf\u001b[0m\u001b[0;34m.\u001b[0m\u001b[0mwrite\u001b[0m\u001b[0;34m(\u001b[0m\u001b[0mpickle\u001b[0m\u001b[0;34m.\u001b[0m\u001b[0mdumps\u001b[0m\u001b[0;34m(\u001b[0m\u001b[0mobj\u001b[0m\u001b[0;34m,\u001b[0m \u001b[0mprotocol\u001b[0m\u001b[0;34m=\u001b[0m\u001b[0mprotocol\u001b[0m\u001b[0;34m)\u001b[0m\u001b[0;34m)\u001b[0m\u001b[0;34m\u001b[0m\u001b[0;34m\u001b[0m\u001b[0m\n\u001b[0m\u001b[1;32m     77\u001b[0m     \u001b[0;32mfinally\u001b[0m\u001b[0;34m:\u001b[0m\u001b[0;34m\u001b[0m\u001b[0;34m\u001b[0m\u001b[0m\n\u001b[1;32m     78\u001b[0m         \u001b[0mf\u001b[0m\u001b[0;34m.\u001b[0m\u001b[0mclose\u001b[0m\u001b[0;34m(\u001b[0m\u001b[0;34m)\u001b[0m\u001b[0;34m\u001b[0m\u001b[0;34m\u001b[0m\u001b[0m\n",
      "\u001b[0;31mKeyboardInterrupt\u001b[0m: "
     ]
    }
   ],
   "source": [
    "df_new.to_pickle('./data_sorted_wo_diff.pkl')"
   ]
  },
  {
   "cell_type": "code",
   "execution_count": 15,
   "metadata": {},
   "outputs": [
    {
     "data": {
      "text/plain": [
       "<matplotlib.collections.PathCollection at 0x2983894d0>"
      ]
     },
     "execution_count": 15,
     "metadata": {},
     "output_type": "execute_result"
    },
    {
     "data": {
      "image/png": "[encoded data removed]",
      "text/plain": [
       "<Figure size 720x720 with 1 Axes>"
      ]
     },
     "metadata": {
      "needs_background": "light"
     },
     "output_type": "display_data"
    }
   ],
   "source": [
    "plt.figure(figsize=[10,10])\n",
    "plt.scatter(df_new.index,df_new.Exits)"
   ]
  },
  {
   "cell_type": "code",
   "execution_count": 16,
   "metadata": {},
   "outputs": [
    {
     "data": {
      "text/plain": [
       "{'whiskers': [<matplotlib.lines.Line2D at 0x29edec4d0>,\n",
       "  <matplotlib.lines.Line2D at 0x296588690>],\n",
       " 'caps': [<matplotlib.lines.Line2D at 0x296588210>,\n",
       "  <matplotlib.lines.Line2D at 0x1524dff10>],\n",
       " 'boxes': [<matplotlib.lines.Line2D at 0x29edec490>],\n",
       " 'medians': [<matplotlib.lines.Line2D at 0x2854c0b10>],\n",
       " 'fliers': [<matplotlib.lines.Line2D at 0x2854c0350>],\n",
       " 'means': []}"
      ]
     },
     "execution_count": 16,
     "metadata": {},
     "output_type": "execute_result"
    },
    {
     "data": {
      "image/png": "[encoded data removed]",
      "text/plain": [
       "<Figure size 720x720 with 1 Axes>"
      ]
     },
     "metadata": {
      "needs_background": "light"
     },
     "output_type": "display_data"
    }
   ],
   "source": [
    "plt.figure(figsize=[10,10])\n",
    "plt.boxplot(df_new.Entries) #data is very skewed and has many outliners which are extremely high in value"
   ]
  },
  {
   "cell_type": "code",
   "execution_count": 17,
   "metadata": {},
   "outputs": [
    {
     "data": {
      "text/plain": [
       "5178573    2129551969\n",
       "5178574    2129551904\n",
       "5178575    2129551874\n",
       "5178576    2129551796\n",
       "5178577    2129551507\n",
       "Name: Entries, dtype: int64"
      ]
     },
     "execution_count": 17,
     "metadata": {},
     "output_type": "execute_result"
    }
   ],
   "source": [
    "df_new.Entries.sort_values(ascending = False)[:5] #sort entries to understand top five"
   ]
  },
  {
   "cell_type": "code",
   "execution_count": 18,
   "metadata": {},
   "outputs": [],
   "source": [
    "quantile_to_flag = 12150 #assuming 30 pp passing through per minute\n",
    "total_num_entry = len(df_new)"
   ]
  },
  {
   "cell_type": "code",
   "execution_count": 19,
   "metadata": {},
   "outputs": [
    {
     "name": "stdout",
     "output_type": "stream",
     "text": [
      "10467101\n"
     ]
    }
   ],
   "source": [
    "print(total_num_entry)"
   ]
  },
  {
   "cell_type": "code",
   "execution_count": 20,
   "metadata": {},
   "outputs": [],
   "source": [
    "#calculate row wise difference in absolute value (accounting for backwards counting)\n",
    "df_new['entry_diff_abs'] = df_new.Entries.diff(periods = 1).abs()\n",
    "df_new['exit_diff_abs'] = df_new.Exits.diff(periods = 1).abs()\n",
    "#reset the start of every new turnstile\n",
    "df_new['entry_diff_abs'] = np.where(df_new.Turnstile_ID == df_new.Turnstile_ID.shift(periods = 1,fill_value = 0),\n",
    "                                df_new.entry_diff_abs,0)\n",
    "df_new['exit_diff_abs'] = np.where(df_new.Turnstile_ID == df_new.Turnstile_ID.shift(periods = 1,fill_value = 0),\n",
    "                               df_new.exit_diff_abs,0)"
   ]
  },
  {
   "cell_type": "code",
   "execution_count": 21,
   "metadata": {},
   "outputs": [],
   "source": [
    "# check for data that is abnormally high\n",
    "df_new['flag_high_entry_diff'] = df_new['entry_diff_abs'] > quantile_to_flag\n",
    "df_new['flag_high_exit_diff'] = df_new['exit_diff_abs'] > quantile_to_flag"
   ]
  },
  {
   "cell_type": "code",
   "execution_count": 22,
   "metadata": {},
   "outputs": [
    {
     "data": {
      "text/plain": [
       "0.08094887017904957"
      ]
     },
     "execution_count": 22,
     "metadata": {},
     "output_type": "execute_result"
    }
   ],
   "source": [
    "total_abno = np.sum([df_new.flag_high_entry_diff.sum(),df_new['flag_high_exit_diff'].sum()])\n",
    "total_abno/total_num_entry*100 #abnormal entries are less than 0.1% of total data, we will discard outliners here"
   ]
  },
  {
   "cell_type": "code",
   "execution_count": null,
   "metadata": {},
   "outputs": [],
   "source": []
  },
  {
   "cell_type": "code",
   "execution_count": 23,
   "metadata": {},
   "outputs": [],
   "source": [
    "rows_to_drop = df_new[df_new['flag_high_entry_diff']].index.tolist() + df_new[df_new['flag_high_exit_diff']].index.tolist()"
   ]
  },
  {
   "cell_type": "code",
   "execution_count": 24,
   "metadata": {},
   "outputs": [],
   "source": [
    "df = pd.DataFrame(df_new.drop(rows_to_drop))"
   ]
  },
  {
   "cell_type": "code",
   "execution_count": 25,
   "metadata": {},
   "outputs": [],
   "source": [
    "df = df.rename(columns = {'entry_diff_abs':'Entry_diff','exit_diff_abs':'Exit_diff'})"
   ]
  },
  {
   "cell_type": "code",
   "execution_count": null,
   "metadata": {},
   "outputs": [],
   "source": [
    "df.info()"
   ]
  },
  {
   "cell_type": "code",
   "execution_count": 26,
   "metadata": {},
   "outputs": [],
   "source": [
    "#calculate net flow as the sum of people entering station and people exiting station\n",
    "df['Net_Flow'] = df['Entry_diff'] + df['Exit_diff']"
   ]
  },
  {
   "cell_type": "code",
   "execution_count": 27,
   "metadata": {},
   "outputs": [],
   "source": [
    "columns_to_keep = ['Turnstile_ID','Station','Date','Time','Exit_diff','Entry_diff','Net_Flow']\n",
    "df_cleaned = pd.DataFrame(df[columns_to_keep])"
   ]
  },
  {
   "cell_type": "code",
   "execution_count": null,
   "metadata": {},
   "outputs": [],
   "source": [
    "df_cleaned.to_pickle('./data_final.pkl')"
   ]
  },
  {
   "cell_type": "code",
   "execution_count": 28,
   "metadata": {},
   "outputs": [
    {
     "data": {
      "text/plain": [
       "10861644.0"
      ]
     },
     "execution_count": 28,
     "metadata": {},
     "output_type": "execute_result"
    }
   ],
   "source": [
    "#Station flow per year\n",
    "station_flow_annual = df_cleaned.groupby(by = 'Station')['Net_Flow'].sum()\n",
    "station_flow_annual[0]"
   ]
  },
  {
   "cell_type": "code",
   "execution_count": 29,
   "metadata": {},
   "outputs": [
    {
     "name": "stdout",
     "output_type": "stream",
     "text": [
      "Index(['34 ST-PENN STA', 'GRD CNTRL-42 ST', '34 ST-HERALD SQ', '23 ST',\n",
      "       'TIMES SQ-42 ST', '14 ST-UNION SQ', '42 ST-PORT AUTH', 'FULTON ST',\n",
      "       '86 ST', '125 ST', 'CANAL ST', '59 ST COLUMBUS', '59 ST', '14 ST',\n",
      "       '47-50 STS ROCK', '96 ST', 'FLUSHING-MAIN', 'CHAMBERS ST',\n",
      "       'PATH NEW WTC', '72 ST'],\n",
      "      dtype='object', name='Station')\n"
     ]
    }
   ],
   "source": [
    "station_flow_annual.sort_values(ascending = False,inplace = True)\n",
    "print(station_flow_annual.index[:20]) #list of top 20"
   ]
  },
  {
   "cell_type": "code",
   "execution_count": 30,
   "metadata": {},
   "outputs": [],
   "source": [
    "station_flow_annual_prc = (station_flow_annual/station_flow_annual.sum()).cumsum()"
   ]
  },
  {
   "cell_type": "code",
   "execution_count": 53,
   "metadata": {},
   "outputs": [],
   "source": [
    "station_dict = {'TIMES SQ-42 ST':'Times Square-42nd St','23 ST':'23rd St','GRD CNTRL-42 ST':'Grand Central-42nd St',\n",
    "               '14 ST-UNION SQ':'14th St-Union Square','FULTON ST':'Fulton St','86 ST':'86th St','125 ST':'125th St',\n",
    "               \"42 ST-PORT AUTH\":\"42th St-Port Authority\",'34 ST-PENN STA':'34th St-Penn','34 ST-HERALD SQ':'34th St-Herald Sq'}"
   ]
  },
  {
   "cell_type": "code",
   "execution_count": 54,
   "metadata": {},
   "outputs": [],
   "source": [
    "stations = pd.Series(station_flow_annual.index[:10].tolist())"
   ]
  },
  {
   "cell_type": "code",
   "execution_count": 62,
   "metadata": {},
   "outputs": [
    {
     "data": {
      "text/plain": [
       "0              34th St-Penn\n",
       "1     Grand Central-42nd St\n",
       "2         34th St-Herald Sq\n",
       "3                   23rd St\n",
       "4      Times Square-42nd St\n",
       "5      14th St-Union Square\n",
       "6    42th St-Port Authority\n",
       "7                 Fulton St\n",
       "8                   86th St\n",
       "9                  125th St\n",
       "dtype: object"
      ]
     },
     "execution_count": 62,
     "metadata": {},
     "output_type": "execute_result"
    }
   ],
   "source": [
    "stations.replace(station_dict,inplace = True)\n",
    "stations"
   ]
  },
  {
   "cell_type": "code",
   "execution_count": 67,
   "metadata": {},
   "outputs": [
    {
     "data": {
      "image/png": "[encoded data removed]",
      "text/plain": [
       "<Figure size 1080x720 with 2 Axes>"
      ]
     },
     "metadata": {
      "needs_background": "light"
     },
     "output_type": "display_data"
    }
   ],
   "source": [
    "plot_length = 10\n",
    "font_size = 15\n",
    "font_sizeb = 20\n",
    "fig, ax1 = plt.subplots(figsize=(15, 10))\n",
    "\n",
    "ax1.bar(x = stations,height = station_flow_annual[:plot_length])\n",
    "ax1.set_xticks(np.arange(plot_length))\n",
    "ax1.set_xticklabels(stations.values)\n",
    "\n",
    "ax1.set_ylabel('Annual Ridership',fontsize = font_sizeb)\n",
    "#plt.title('Annual Traffic per station, Top {} stations'.format(plot_length),fontdict = {'fontsize':20})\n",
    "ax1.set_frame_on(False)\n",
    "ax1.set_ylim([1,10*(10**7)])\n",
    "ax1.tick_params(axis='x', rotation=70)\n",
    "ax1.set_yticklabels(['20mn','40mn','60mn','80mn','100mn'])\n",
    "ax1.tick_params(axis = u'both', which=u'both',length=0)\n",
    "for label in (ax1.get_xticklabels()+ax1.get_yticklabels()):\n",
    "    label.set_fontname('Arial')\n",
    "    label.set_fontsize(font_size) \n",
    "\n",
    "\n",
    "ax2 = ax1.twinx()  # instantiate a second axes that shares the same x-axis\n",
    "\n",
    "color = 'orange'\n",
    "  # we already handled the x-label with ax1\n",
    "ax2.plot(station_flow_annual.index[:plot_length], station_flow_annual_prc[:plot_length], color=color, label = \"Cumulative Percentage of Total NYC Ridership\")\n",
    "ax2.set_frame_on(False)\n",
    "ax2.set_yticks([0,0.2])\n",
    "ax2.set_yticklabels([\"\",'20%'])\n",
    "ax2.tick_params(axis = u'both', which=u'both',length=0)\n",
    "ax2.legend(loc=\"upper center\",fontsize = font_size)\n",
    "for label in (ax2.get_yticklabels()):\n",
    "    label.set_fontname('Arial')\n",
    "    label.set_fontsize(font_size) \n",
    "\n",
    "\n",
    "fig.tight_layout()  # otherwise the right y-label is slightly clipped\n",
    "\n",
    "fig.savefig('graph1_{}.png'.format(plot_length))"
   ]
  },
  {
   "cell_type": "code",
   "execution_count": null,
   "metadata": {},
   "outputs": [],
   "source": [
    "for label in (ax.get_xticklabels() + ax.get_yticklabels()):\n",
    "label.set_fontname('Arial')\n",
    "label.set_fontsize(13) # to modify for fontsize"
   ]
  },
  {
   "cell_type": "code",
   "execution_count": 27,
   "metadata": {},
   "outputs": [],
   "source": [
    "#Station flow per day\n",
    "\n",
    "station_flow_day = station_flow_annual /363/24\n",
    "station_flow_day.sort_values(ascending = False,inplace = True)"
   ]
  },
  {
   "cell_type": "code",
   "execution_count": 28,
   "metadata": {},
   "outputs": [
    {
     "data": {
      "image/png": "[encoded data removed]",
      "text/plain": [
       "<Figure size 720x720 with 1 Axes>"
      ]
     },
     "metadata": {
      "needs_background": "light"
     },
     "output_type": "display_data"
    }
   ],
   "source": [
    "plot_length = 10\n",
    "\n",
    "plt.figure(figsize=[10,10])\n",
    "plt.bar(x = station_flow_day.index[:plot_length],height = station_flow_day[:plot_length])\n",
    "plt.xticks(np.arange(plot_length),station_flow_day.index[:plot_length],rotation=45)\n",
    "plt.xlabel('Stations')\n",
    "plt.ylabel('Total Traffic per hour')\n",
    "plt.title('Total Traffic per hour, Top {} stations'.format(plot_length))\n",
    "\n",
    "plt.savefig('graph2_10.png')"
   ]
  }
 ],
 "metadata": {
  "kernelspec": {
   "display_name": "Python 3",
   "language": "python",
   "name": "python3"
  },
  "language_info": {
   "codemirror_mode": {
    "name": "ipython",
    "version": 3
   },
   "file_extension": ".py",
   "mimetype": "text/x-python",
   "name": "python",
   "nbconvert_exporter": "python",
   "pygments_lexer": "ipython3",
   "version": "3.7.4"
  }
 },
 "nbformat": 4,
 "nbformat_minor": 2
}
